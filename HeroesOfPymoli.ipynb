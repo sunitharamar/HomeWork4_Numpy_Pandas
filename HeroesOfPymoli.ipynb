{
 "cells": [
  {
   "cell_type": "code",
   "execution_count": 95,
   "metadata": {
    "collapsed": true
   },
   "outputs": [],
   "source": [
    "# This is Option 1: Heroes of Pymoli \n",
    "#analyzing the data for their most recent fantasy game Heroes of Pymoli."
   ]
  },
  {
   "cell_type": "code",
   "execution_count": 96,
   "metadata": {
    "collapsed": true
   },
   "outputs": [],
   "source": [
    "# Import the Pandas library\n",
    "import pandas as pd\n",
    "import os\n",
    "import numpy as np\n",
    "import json"
   ]
  },
  {
   "cell_type": "code",
   "execution_count": 97,
   "metadata": {
    "collapsed": true
   },
   "outputs": [],
   "source": [
    "#======================================================================================================"
   ]
  },
  {
   "cell_type": "code",
   "execution_count": 98,
   "metadata": {
    "collapsed": true
   },
   "outputs": [],
   "source": [
    "##################### This is the Starting section for \"PLAYER COUNT\" ################################## "
   ]
  },
  {
   "cell_type": "code",
   "execution_count": 99,
   "metadata": {
    "collapsed": true
   },
   "outputs": [],
   "source": [
    "#======================================================================================================"
   ]
  },
  {
   "cell_type": "code",
   "execution_count": 100,
   "metadata": {
    "collapsed": true
   },
   "outputs": [],
   "source": [
    "# Reading my 2 input files from json format\n",
    "my_data1_df = pd.read_json('purchase_data.json')\n",
    "my_data2_df = pd.read_json('purchase_data2.json')\n",
    "\n",
    "#Took screenshots from \"my_data1_df\" and uploaded to the HW github.\n",
    "#Working Input file \n",
    "my_data_df = my_data2_df\n"
   ]
  },
  {
   "cell_type": "code",
   "execution_count": 101,
   "metadata": {},
   "outputs": [
    {
     "name": "stdout",
     "output_type": "stream",
     "text": [
      "78\n"
     ]
    },
    {
     "data": {
      "text/html": [
       "<div>\n",
       "<style>\n",
       "    .dataframe thead tr:only-child th {\n",
       "        text-align: right;\n",
       "    }\n",
       "\n",
       "    .dataframe thead th {\n",
       "        text-align: left;\n",
       "    }\n",
       "\n",
       "    .dataframe tbody tr th {\n",
       "        vertical-align: top;\n",
       "    }\n",
       "</style>\n",
       "<table border=\"1\" class=\"dataframe\">\n",
       "  <thead>\n",
       "    <tr style=\"text-align: right;\">\n",
       "      <th></th>\n",
       "      <th>Age</th>\n",
       "      <th>Gender</th>\n",
       "      <th>Item ID</th>\n",
       "      <th>Item Name</th>\n",
       "      <th>Price</th>\n",
       "      <th>SN</th>\n",
       "    </tr>\n",
       "  </thead>\n",
       "  <tbody>\n",
       "    <tr>\n",
       "      <th>0</th>\n",
       "      <td>20</td>\n",
       "      <td>Male</td>\n",
       "      <td>93</td>\n",
       "      <td>Apocalyptic Battlescythe</td>\n",
       "      <td>4.49</td>\n",
       "      <td>Iloni35</td>\n",
       "    </tr>\n",
       "    <tr>\n",
       "      <th>1</th>\n",
       "      <td>21</td>\n",
       "      <td>Male</td>\n",
       "      <td>12</td>\n",
       "      <td>Dawne</td>\n",
       "      <td>3.36</td>\n",
       "      <td>Aidaira26</td>\n",
       "    </tr>\n",
       "    <tr>\n",
       "      <th>2</th>\n",
       "      <td>17</td>\n",
       "      <td>Male</td>\n",
       "      <td>5</td>\n",
       "      <td>Putrid Fan</td>\n",
       "      <td>2.63</td>\n",
       "      <td>Irim47</td>\n",
       "    </tr>\n",
       "    <tr>\n",
       "      <th>3</th>\n",
       "      <td>17</td>\n",
       "      <td>Male</td>\n",
       "      <td>123</td>\n",
       "      <td>Twilight's Carver</td>\n",
       "      <td>2.55</td>\n",
       "      <td>Irith83</td>\n",
       "    </tr>\n",
       "    <tr>\n",
       "      <th>4</th>\n",
       "      <td>22</td>\n",
       "      <td>Male</td>\n",
       "      <td>154</td>\n",
       "      <td>Feral Katana</td>\n",
       "      <td>4.11</td>\n",
       "      <td>Philodil43</td>\n",
       "    </tr>\n",
       "  </tbody>\n",
       "</table>\n",
       "</div>"
      ],
      "text/plain": [
       "   Age Gender  Item ID                 Item Name  Price          SN\n",
       "0   20   Male       93  Apocalyptic Battlescythe   4.49     Iloni35\n",
       "1   21   Male       12                     Dawne   3.36   Aidaira26\n",
       "2   17   Male        5                Putrid Fan   2.63      Irim47\n",
       "3   17   Male      123         Twilight's Carver   2.55     Irith83\n",
       "4   22   Male      154              Feral Katana   4.11  Philodil43"
      ]
     },
     "execution_count": 101,
     "metadata": {},
     "output_type": "execute_result"
    }
   ],
   "source": [
    " \n",
    "print(len(my_data_df))\n",
    "my_data_df.head()\n",
    "\n",
    " "
   ]
  },
  {
   "cell_type": "code",
   "execution_count": 102,
   "metadata": {},
   "outputs": [
    {
     "data": {
      "text/html": [
       "<div>\n",
       "<style>\n",
       "    .dataframe thead tr:only-child th {\n",
       "        text-align: right;\n",
       "    }\n",
       "\n",
       "    .dataframe thead th {\n",
       "        text-align: left;\n",
       "    }\n",
       "\n",
       "    .dataframe tbody tr th {\n",
       "        vertical-align: top;\n",
       "    }\n",
       "</style>\n",
       "<table border=\"1\" class=\"dataframe\">\n",
       "  <thead>\n",
       "    <tr style=\"text-align: right;\">\n",
       "      <th></th>\n",
       "      <th>Age</th>\n",
       "      <th>Item ID</th>\n",
       "      <th>Price</th>\n",
       "    </tr>\n",
       "  </thead>\n",
       "  <tbody>\n",
       "    <tr>\n",
       "      <th>count</th>\n",
       "      <td>78.000000</td>\n",
       "      <td>78.000000</td>\n",
       "      <td>78.000000</td>\n",
       "    </tr>\n",
       "    <tr>\n",
       "      <th>mean</th>\n",
       "      <td>22.551282</td>\n",
       "      <td>93.935897</td>\n",
       "      <td>2.924359</td>\n",
       "    </tr>\n",
       "    <tr>\n",
       "      <th>std</th>\n",
       "      <td>7.339003</td>\n",
       "      <td>56.352633</td>\n",
       "      <td>1.134913</td>\n",
       "    </tr>\n",
       "    <tr>\n",
       "      <th>min</th>\n",
       "      <td>7.000000</td>\n",
       "      <td>0.000000</td>\n",
       "      <td>1.020000</td>\n",
       "    </tr>\n",
       "    <tr>\n",
       "      <th>25%</th>\n",
       "      <td>20.000000</td>\n",
       "      <td>48.000000</td>\n",
       "      <td>1.925000</td>\n",
       "    </tr>\n",
       "    <tr>\n",
       "      <th>50%</th>\n",
       "      <td>22.500000</td>\n",
       "      <td>97.500000</td>\n",
       "      <td>2.770000</td>\n",
       "    </tr>\n",
       "    <tr>\n",
       "      <th>75%</th>\n",
       "      <td>25.000000</td>\n",
       "      <td>137.000000</td>\n",
       "      <td>4.092500</td>\n",
       "    </tr>\n",
       "    <tr>\n",
       "      <th>max</th>\n",
       "      <td>40.000000</td>\n",
       "      <td>181.000000</td>\n",
       "      <td>4.810000</td>\n",
       "    </tr>\n",
       "  </tbody>\n",
       "</table>\n",
       "</div>"
      ],
      "text/plain": [
       "             Age     Item ID      Price\n",
       "count  78.000000   78.000000  78.000000\n",
       "mean   22.551282   93.935897   2.924359\n",
       "std     7.339003   56.352633   1.134913\n",
       "min     7.000000    0.000000   1.020000\n",
       "25%    20.000000   48.000000   1.925000\n",
       "50%    22.500000   97.500000   2.770000\n",
       "75%    25.000000  137.000000   4.092500\n",
       "max    40.000000  181.000000   4.810000"
      ]
     },
     "execution_count": 102,
     "metadata": {},
     "output_type": "execute_result"
    }
   ],
   "source": [
    "# Note that .describe() will only return summary statistics for your numeric columns(Age, Item ID, Price)\n",
    "my_data_df.describe()"
   ]
  },
  {
   "cell_type": "code",
   "execution_count": 103,
   "metadata": {},
   "outputs": [
    {
     "data": {
      "text/plain": [
       "Age          78\n",
       "Gender       78\n",
       "Item ID      78\n",
       "Item Name    78\n",
       "Price        78\n",
       "SN           78\n",
       "dtype: int64"
      ]
     },
     "execution_count": 103,
     "metadata": {},
     "output_type": "execute_result"
    }
   ],
   "source": [
    "# Remove the rows with missing data\n",
    "clean_df = my_data_df.dropna(how=\"any\")\n",
    "clean_df.count() #just to make sure I ran this dropping the rows with missing data - still same number which is consistent"
   ]
  },
  {
   "cell_type": "code",
   "execution_count": 104,
   "metadata": {},
   "outputs": [
    {
     "data": {
      "text/plain": [
       "Sundaky74       2\n",
       "Aidaira26       2\n",
       "Chaniman66      2\n",
       "Hairith93       2\n",
       "Undirrasta74    1\n",
       "Name: SN, dtype: int64"
      ]
     },
     "execution_count": 104,
     "metadata": {},
     "output_type": "execute_result"
    }
   ],
   "source": [
    "# How many times each unique Players participated with the value counts.\n",
    "Player_count = clean_df[\"SN\"].value_counts()\n",
    "Player_count.head() "
   ]
  },
  {
   "cell_type": "code",
   "execution_count": 105,
   "metadata": {},
   "outputs": [
    {
     "name": "stdout",
     "output_type": "stream",
     "text": [
      "74\n"
     ]
    }
   ],
   "source": [
    "# Get the unique Player_count with length fucntion\n",
    "total_columns = len(Player_count.axes[0]) # Total number of Players with axes[0] <- Rows , axes[1] <- Column\n",
    "print(total_columns)"
   ]
  },
  {
   "cell_type": "code",
   "execution_count": 106,
   "metadata": {},
   "outputs": [
    {
     "data": {
      "text/html": [
       "<div>\n",
       "<style>\n",
       "    .dataframe thead tr:only-child th {\n",
       "        text-align: right;\n",
       "    }\n",
       "\n",
       "    .dataframe thead th {\n",
       "        text-align: left;\n",
       "    }\n",
       "\n",
       "    .dataframe tbody tr th {\n",
       "        vertical-align: top;\n",
       "    }\n",
       "</style>\n",
       "<table border=\"1\" class=\"dataframe\">\n",
       "  <thead>\n",
       "    <tr style=\"text-align: right;\">\n",
       "      <th></th>\n",
       "      <th>Total Players</th>\n",
       "    </tr>\n",
       "  </thead>\n",
       "  <tbody>\n",
       "    <tr>\n",
       "      <th>0</th>\n",
       "      <td>74</td>\n",
       "    </tr>\n",
       "  </tbody>\n",
       "</table>\n",
       "</div>"
      ],
      "text/plain": [
       "   Total Players\n",
       "0             74"
      ]
     },
     "execution_count": 106,
     "metadata": {},
     "output_type": "execute_result"
    }
   ],
   "source": [
    "#Creating a new dataframe for results of \"Total Players\"\n",
    " \n",
    "my_list = [{\"Total Players\": total_columns }] \n",
    "total_players_df = pd.DataFrame(my_list)\n",
    "total_players_df"
   ]
  },
  {
   "cell_type": "code",
   "execution_count": 107,
   "metadata": {
    "collapsed": true
   },
   "outputs": [],
   "source": [
    "#=================================================================================================================="
   ]
  },
  {
   "cell_type": "code",
   "execution_count": 108,
   "metadata": {
    "collapsed": true
   },
   "outputs": [],
   "source": [
    "##################### This is the Starting section for \" PURCHASING ANALYSIS (Total)\" ############################## "
   ]
  },
  {
   "cell_type": "code",
   "execution_count": 109,
   "metadata": {
    "collapsed": true
   },
   "outputs": [],
   "source": [
    "#=================================================================================================================="
   ]
  },
  {
   "cell_type": "code",
   "execution_count": 110,
   "metadata": {
    "collapsed": true
   },
   "outputs": [],
   "source": [
    "# List of unique item names from column\n",
    "unique_item_names =  clean_df[\"Item Name\"].unique()\n",
    "#print(unique_item_names )"
   ]
  },
  {
   "cell_type": "code",
   "execution_count": 111,
   "metadata": {
    "collapsed": true
   },
   "outputs": [],
   "source": [
    "#Total unique item names, using len function to get the list/array length.\n",
    "Total_unique_item_names = len(unique_item_names)\n",
    "#Total_unique_item_names"
   ]
  },
  {
   "cell_type": "code",
   "execution_count": 112,
   "metadata": {
    "collapsed": true
   },
   "outputs": [],
   "source": [
    "# Average Purchase Price - in other words basically it is the mean value of the column \"Price\"\n",
    "average_purchase_price =  clean_df[\"Price\"].mean()\n",
    "#print(average_purchase_price )"
   ]
  },
  {
   "cell_type": "code",
   "execution_count": 113,
   "metadata": {
    "collapsed": true
   },
   "outputs": [],
   "source": [
    "# Total Number of Purchases\n",
    "Total_number_of_purchases = clean_df[\"Item ID\"].count()\n",
    "#Total_number_of_purchases"
   ]
  },
  {
   "cell_type": "code",
   "execution_count": 114,
   "metadata": {},
   "outputs": [
    {
     "data": {
      "text/plain": [
       "228.0999999999999"
      ]
     },
     "execution_count": 114,
     "metadata": {},
     "output_type": "execute_result"
    }
   ],
   "source": [
    "# Total Revenue\n",
    "Total_revenue = clean_df[\"Price\"].sum()\n",
    "Total_revenue"
   ]
  },
  {
   "cell_type": "code",
   "execution_count": 115,
   "metadata": {},
   "outputs": [
    {
     "data": {
      "text/plain": [
       "Male                     64\n",
       "Female                   13\n",
       "Other / Non-Disclosed     1\n",
       "Name: Gender, dtype: int64"
      ]
     },
     "execution_count": 115,
     "metadata": {},
     "output_type": "execute_result"
    }
   ],
   "source": [
    "# Gender Demographics\n",
    "\n",
    "# Count of Male, Female, Non-Disclosed Players\n",
    "Gender_count = clean_df[\"Gender\"].value_counts() \n",
    "\n",
    "Gender_count.head()"
   ]
  },
  {
   "cell_type": "code",
   "execution_count": 116,
   "metadata": {
    "collapsed": true
   },
   "outputs": [],
   "source": [
    "# Total Count of the Column \"Gender\"\n",
    "total_count_gender = clean_df[\"Gender\"].count()\n",
    "#total_count_gender"
   ]
  },
  {
   "cell_type": "code",
   "execution_count": 367,
   "metadata": {},
   "outputs": [
    {
     "data": {
      "text/html": [
       "<div>\n",
       "<style>\n",
       "    .dataframe thead tr:only-child th {\n",
       "        text-align: right;\n",
       "    }\n",
       "\n",
       "    .dataframe thead th {\n",
       "        text-align: left;\n",
       "    }\n",
       "\n",
       "    .dataframe tbody tr th {\n",
       "        vertical-align: top;\n",
       "    }\n",
       "</style>\n",
       "<table border=\"1\" class=\"dataframe\">\n",
       "  <thead>\n",
       "    <tr style=\"text-align: right;\">\n",
       "      <th></th>\n",
       "      <th>Average Price</th>\n",
       "      <th>Number of Purchases</th>\n",
       "      <th>Number of unique Items</th>\n",
       "      <th>Total Revenue</th>\n",
       "    </tr>\n",
       "  </thead>\n",
       "  <tbody>\n",
       "    <tr>\n",
       "      <th>0</th>\n",
       "      <td>$2.92</td>\n",
       "      <td>78</td>\n",
       "      <td>63</td>\n",
       "      <td>$228.10</td>\n",
       "    </tr>\n",
       "  </tbody>\n",
       "</table>\n",
       "</div>"
      ],
      "text/plain": [
       "  Average Price  Number of Purchases  Number of unique Items Total Revenue\n",
       "0         $2.92                   78                      63       $228.10"
      ]
     },
     "execution_count": 367,
     "metadata": {},
     "output_type": "execute_result"
    }
   ],
   "source": [
    "#Creating a new dataframe for results of \"Purchasing Analysis (Total)\" with adding dollar sign to it. formating\n",
    "\n",
    "def dollarsign(x):\n",
    "    return '${:,.2f}'.format(x) \n",
    " \n",
    "    \n",
    "my_dict = {\"Number of unique Items\": [Total_unique_item_names],\n",
    "           \"Average Price\": [average_purchase_price],\n",
    "           \"Number of Purchases\": [Total_number_of_purchases],\n",
    "           \"Total Revenue\":  [Total_revenue]}  \n",
    "\n",
    "my_df_2 = pd.DataFrame(my_dict)\n",
    "my_df_2['Total Revenue'] =  my_df_2['Total Revenue'].apply(dollarsign)\n",
    "my_df_2['Average Price'] =  my_df_2['Average Price'].apply(dollarsign)\n",
    "\n",
    "\n",
    "\n",
    "my_df_2"
   ]
  },
  {
   "cell_type": "code",
   "execution_count": null,
   "metadata": {
    "collapsed": true
   },
   "outputs": [],
   "source": []
  },
  {
   "cell_type": "code",
   "execution_count": 118,
   "metadata": {
    "collapsed": true
   },
   "outputs": [],
   "source": [
    "#=================================================================================================================="
   ]
  },
  {
   "cell_type": "code",
   "execution_count": 119,
   "metadata": {
    "collapsed": true
   },
   "outputs": [],
   "source": [
    "##################### This is the Starting section for \" GENDER DEMOGRAPHICS \" ############################## "
   ]
  },
  {
   "cell_type": "code",
   "execution_count": 120,
   "metadata": {
    "collapsed": true
   },
   "outputs": [],
   "source": [
    "#=================================================================================================================="
   ]
  },
  {
   "cell_type": "code",
   "execution_count": 121,
   "metadata": {
    "collapsed": true
   },
   "outputs": [],
   "source": [
    "Percentage_Male = (((Gender_count.loc[\"Male\"])/total_count_gender)*100)\n",
    "#print(Percentage_Male)\n",
    " "
   ]
  },
  {
   "cell_type": "code",
   "execution_count": 122,
   "metadata": {
    "collapsed": true
   },
   "outputs": [],
   "source": [
    "Percentage_Female = (((Gender_count.loc[\"Female\"])/total_count_gender)*100)\n",
    "#print(Percentage_Female)"
   ]
  },
  {
   "cell_type": "code",
   "execution_count": 123,
   "metadata": {
    "collapsed": true
   },
   "outputs": [],
   "source": [
    "\n",
    "Percentage_Other_Nondisclosed = (((Gender_count.loc[\"Other / Non-Disclosed\"])/total_count_gender)*100)\n",
    "#print(Percentage_Other_Nondisclosed)"
   ]
  },
  {
   "cell_type": "code",
   "execution_count": 370,
   "metadata": {
    "collapsed": true
   },
   "outputs": [],
   "source": [
    "# Creating a new dataframe for Gender Demographies\n",
    "gender_dic = {\"Gender\": [\"Male\", \"Female\", \"Other/Non-Disclosed\"],\n",
    "              \"Percentage of Players\": [Percentage_Male, Percentage_Female, Percentage_Other_Nondisclosed],\n",
    "              \"Total Count\": [Gender_count.loc[\"Male\"], Gender_count.loc[\"Female\"], Gender_count.loc[\"Other / Non-Disclosed\"]]}\n",
    "\n",
    "gender_demography_df = pd.DataFrame(gender_dic) # set the row index to be \"Gender\"\n",
    "\n",
    "#gender_demography_df\n",
    "                            "
   ]
  },
  {
   "cell_type": "code",
   "execution_count": 371,
   "metadata": {},
   "outputs": [],
   "source": [
    "def percentsign(x):\n",
    "    return '{:.2f}%'.format(x) \n",
    "\n",
    "gender_demography_df['Percentage of Players'] = gender_demography_df['Percentage of Players'].apply(percentsign)\n",
    "#gender_demography_df\n",
    " "
   ]
  },
  {
   "cell_type": "code",
   "execution_count": 372,
   "metadata": {},
   "outputs": [
    {
     "data": {
      "text/html": [
       "<div>\n",
       "<style>\n",
       "    .dataframe thead tr:only-child th {\n",
       "        text-align: right;\n",
       "    }\n",
       "\n",
       "    .dataframe thead th {\n",
       "        text-align: left;\n",
       "    }\n",
       "\n",
       "    .dataframe tbody tr th {\n",
       "        vertical-align: top;\n",
       "    }\n",
       "</style>\n",
       "<table border=\"1\" class=\"dataframe\">\n",
       "  <thead>\n",
       "    <tr style=\"text-align: right;\">\n",
       "      <th></th>\n",
       "      <th>Percentage of Players</th>\n",
       "      <th>Total Count</th>\n",
       "    </tr>\n",
       "    <tr>\n",
       "      <th>Gender</th>\n",
       "      <th></th>\n",
       "      <th></th>\n",
       "    </tr>\n",
       "  </thead>\n",
       "  <tbody>\n",
       "    <tr>\n",
       "      <th>Male</th>\n",
       "      <td>82.05%</td>\n",
       "      <td>64</td>\n",
       "    </tr>\n",
       "    <tr>\n",
       "      <th>Female</th>\n",
       "      <td>16.67%</td>\n",
       "      <td>13</td>\n",
       "    </tr>\n",
       "    <tr>\n",
       "      <th>Other/Non-Disclosed</th>\n",
       "      <td>1.28%</td>\n",
       "      <td>1</td>\n",
       "    </tr>\n",
       "  </tbody>\n",
       "</table>\n",
       "</div>"
      ],
      "text/plain": [
       "                    Percentage of Players  Total Count\n",
       "Gender                                                \n",
       "Male                               82.05%           64\n",
       "Female                             16.67%           13\n",
       "Other/Non-Disclosed                 1.28%            1"
      ]
     },
     "execution_count": 372,
     "metadata": {},
     "output_type": "execute_result"
    }
   ],
   "source": [
    "gender_demography_df = gender_demography_df.set_index(\"Gender\")\n",
    "\n",
    "gender_demography_df"
   ]
  },
  {
   "cell_type": "code",
   "execution_count": 128,
   "metadata": {
    "collapsed": true
   },
   "outputs": [],
   "source": [
    "#=================================================================================================================="
   ]
  },
  {
   "cell_type": "code",
   "execution_count": 129,
   "metadata": {
    "collapsed": true
   },
   "outputs": [],
   "source": [
    "##################### This is the Starting section for \" PURCHASING ANALYSIS (Gender) \" ############################## "
   ]
  },
  {
   "cell_type": "code",
   "execution_count": 130,
   "metadata": {
    "collapsed": true
   },
   "outputs": [],
   "source": [
    "#=================================================================================================================="
   ]
  },
  {
   "cell_type": "code",
   "execution_count": 131,
   "metadata": {},
   "outputs": [
    {
     "name": "stdout",
     "output_type": "stream",
     "text": [
      "<pandas.core.groupby.DataFrameGroupBy object at 0x106618320>\n"
     ]
    }
   ],
   "source": [
    "# Group my_data by the \"Gender\" column\n",
    "grouped_Gender_df = my_data_df.groupby(\"Gender\")\n",
    "\n",
    "# Note that the \"GroupBy\" object by itself is not particularly useful\n",
    "print(grouped_Gender_df)\n"
   ]
  },
  {
   "cell_type": "code",
   "execution_count": 132,
   "metadata": {
    "collapsed": true
   },
   "outputs": [],
   "source": [
    "# Now the groupy object will be useful with the count/values\n",
    "#grouped_Gender_df.count()"
   ]
  },
  {
   "cell_type": "code",
   "execution_count": 133,
   "metadata": {
    "collapsed": true
   },
   "outputs": [],
   "source": [
    "# This is the data type float with series\n",
    "Gender_purchase_count = grouped_Gender_df[\"Price\"].sum()\n",
    "#Gender_purchase_count\n"
   ]
  },
  {
   "cell_type": "code",
   "execution_count": 134,
   "metadata": {},
   "outputs": [
    {
     "data": {
      "text/plain": [
       "pandas.core.series.Series"
      ]
     },
     "execution_count": 134,
     "metadata": {},
     "output_type": "execute_result"
    }
   ],
   "source": [
    "type(grouped_Gender_df[\"Price\"].sum())"
   ]
  },
  {
   "cell_type": "code",
   "execution_count": 135,
   "metadata": {},
   "outputs": [
    {
     "data": {
      "text/plain": [
       "2.1200000000000001"
      ]
     },
     "execution_count": 135,
     "metadata": {},
     "output_type": "execute_result"
    }
   ],
   "source": [
    "Gender_purchase_count.loc[\"Male\"]\n",
    "Gender_purchase_count.loc[\"Female\"]\n",
    "Gender_purchase_count.loc[\"Other / Non-Disclosed\"]"
   ]
  },
  {
   "cell_type": "code",
   "execution_count": 136,
   "metadata": {
    "collapsed": true
   },
   "outputs": [],
   "source": [
    "# This is the dataframe object which has all the sum of \"Price\" column grouped with the \"Gender\"\n",
    "sum_Gender_df = grouped_Gender_df[[\"Price\"]].sum()\n",
    "#sum_Gender_df"
   ]
  },
  {
   "cell_type": "code",
   "execution_count": 137,
   "metadata": {},
   "outputs": [
    {
     "data": {
      "text/plain": [
       "pandas.core.frame.DataFrame"
      ]
     },
     "execution_count": 137,
     "metadata": {},
     "output_type": "execute_result"
    }
   ],
   "source": [
    "type(sum_Gender_df) # Now that we have converted the sum_Gender_df to a DataFrame we can access the locations"
   ]
  },
  {
   "cell_type": "code",
   "execution_count": 138,
   "metadata": {},
   "outputs": [
    {
     "data": {
      "text/plain": [
       "Price    184.6\n",
       "Name: Male, dtype: float64"
      ]
     },
     "execution_count": 138,
     "metadata": {},
     "output_type": "execute_result"
    }
   ],
   "source": [
    "# Values are accessed with the .loc() for individual \"Gender\" column\n",
    "\n",
    "sum_Gender_df.loc[\"Male\"]\n",
    "#sum_Gender_df.loc[\"Female\"]\n",
    "#sum_Gender_df.loc[\"Other / Non-Disclosed\"]\n",
    " "
   ]
  },
  {
   "cell_type": "code",
   "execution_count": 139,
   "metadata": {},
   "outputs": [
    {
     "data": {
      "text/plain": [
       "Gender\n",
       "Female                   3.183077\n",
       "Male                     2.884375\n",
       "Other / Non-Disclosed    2.120000\n",
       "Name: Price, dtype: float64"
      ]
     },
     "execution_count": 139,
     "metadata": {},
     "output_type": "execute_result"
    }
   ],
   "source": [
    "# This is the data type float with series for Average/Mean purchase price\n",
    "Gender_average_price = grouped_Gender_df[\"Price\"].mean()\n",
    "Gender_average_price\n"
   ]
  },
  {
   "cell_type": "code",
   "execution_count": 140,
   "metadata": {},
   "outputs": [
    {
     "data": {
      "text/plain": [
       "2.1200000000000001"
      ]
     },
     "execution_count": 140,
     "metadata": {},
     "output_type": "execute_result"
    }
   ],
   "source": [
    "Gender_average_price.loc[\"Male\"]\n",
    "Gender_average_price.loc[\"Female\"]\n",
    "Gender_average_price.loc[\"Other / Non-Disclosed\"]"
   ]
  },
  {
   "cell_type": "code",
   "execution_count": 141,
   "metadata": {},
   "outputs": [],
   "source": [
    "#grouped_players_df = clean_df.groupby([\"SN\", \"Gender\"])\n",
    "#print(grouped_players_df) \n",
    "\n",
    "\n",
    " \n",
    "#create a new FILTERABLE object that has the count of each group (Male, Female, Other count) \n",
    "df = clean_df[['SN','Gender']].groupby(['SN','Gender']).size().reset_index(name='count')\n",
    "\n",
    "\n",
    "Male_count_df = df[df.Gender == 'Male']\n",
    "len(Male_count_df)\n",
    "#Male_count_df\n",
    "\n",
    "Female_count_df = df[df.Gender == 'Female']\n",
    "#len(Female_count_df)\n",
    "#Female_count_df\n",
    " \n",
    "Other_count_df = df[df.Gender == 'Other / Non-Disclosed']\n",
    "#len(Other_count_df)\n",
    "#Other_count_df"
   ]
  },
  {
   "cell_type": "code",
   "execution_count": 142,
   "metadata": {
    "collapsed": true
   },
   "outputs": [],
   "source": [
    "# Normalization Totals in mathematical world\n",
    "#Standardize = (X, mean, STDEV)\n",
    "#mean = average\n",
    "#X = starting number (move to each number at a time)\n",
    "#STDEV = range (A1:A7) # column"
   ]
  },
  {
   "cell_type": "code",
   "execution_count": 143,
   "metadata": {},
   "outputs": [
    {
     "data": {
      "text/plain": [
       "184.59999999999999"
      ]
     },
     "execution_count": 143,
     "metadata": {},
     "output_type": "execute_result"
    }
   ],
   "source": [
    "# Normalized Totals for Male \n",
    "# Total Purchase Value/Number of players(each group)\n",
    "male_normalized_total = (Gender_purchase_count.loc[\"Male\"])/(len(Male_count_df) )\n",
    "\n",
    "male_normalized_total\n",
    "Gender_purchase_count.loc[\"Male\"]"
   ]
  },
  {
   "cell_type": "code",
   "execution_count": 144,
   "metadata": {},
   "outputs": [
    {
     "data": {
      "text/plain": [
       "3.1830769230769231"
      ]
     },
     "execution_count": 144,
     "metadata": {},
     "output_type": "execute_result"
    }
   ],
   "source": [
    "# Normalized Totals for Female \n",
    "# Total Purchase Value/Number of players(each group)\n",
    "female_normalized_total = (Gender_purchase_count.loc[\"Female\"])/(len(Female_count_df))\n",
    "female_normalized_total"
   ]
  },
  {
   "cell_type": "code",
   "execution_count": 145,
   "metadata": {},
   "outputs": [
    {
     "data": {
      "text/plain": [
       "2.1200000000000001"
      ]
     },
     "execution_count": 145,
     "metadata": {},
     "output_type": "execute_result"
    }
   ],
   "source": [
    "# Normalized Totals for Other/Non-Disclosed\n",
    "# Total Purchase Value/Number of players(each group)\n",
    "other_normalized_total = (Gender_purchase_count.loc[\"Other / Non-Disclosed\"])/(len(Other_count_df))\n",
    "other_normalized_total"
   ]
  },
  {
   "cell_type": "code",
   "execution_count": 146,
   "metadata": {},
   "outputs": [],
   "source": [
    " # Creating a new dataframe for Purchasing Analysis (Gender)\n",
    "purchasing_analysis_gender_dic = {\"Gender\": [\"Male\", \"Female\", \"Other/Non-Disclosed\"],\n",
    "                                  \"Purchase Count\": [Gender_count.loc[\"Male\"], Gender_count.loc[\"Female\"], Gender_count.loc[\"Other / Non-Disclosed\"]],\n",
    "                                  \"Average Purchase Price\": [Gender_average_price.loc[\"Male\"],Gender_average_price.loc[\"Female\"],Gender_average_price.loc[\"Other / Non-Disclosed\"]],\n",
    "                                  \"Total Purchase Value\": [Gender_purchase_count.loc[\"Male\"],Gender_purchase_count.loc[\"Female\"],Gender_purchase_count.loc[\"Other / Non-Disclosed\"]],\n",
    "                                  \"Normalized Totals\": [ male_normalized_total, female_normalized_total, other_normalized_total],\n",
    "                                  \"# players(each group)\":[(len(Male_count_df)), (len(Female_count_df)),(len(Other_count_df))]}\n",
    "            \n",
    "\n",
    "purchasing_analysis_gender_df = pd.DataFrame(purchasing_analysis_gender_dic) # Set the row index to be \"Gender\"\n",
    "\n",
    "purchasing_analysis_gender_df['Average Purchase Price'] = purchasing_analysis_gender_df['Average Purchase Price'].apply(dollarsign)\n",
    "purchasing_analysis_gender_df['Normalized Totals'] = purchasing_analysis_gender_df['Normalized Totals'].apply(dollarsign)\n",
    "purchasing_analysis_gender_df['Total Purchase Value'] = purchasing_analysis_gender_df['Total Purchase Value'].apply(dollarsign)\n",
    "\n",
    "\n",
    "#purchasing_analysis_gender_df"
   ]
  },
  {
   "cell_type": "code",
   "execution_count": 147,
   "metadata": {},
   "outputs": [
    {
     "data": {
      "text/html": [
       "<div>\n",
       "<style>\n",
       "    .dataframe thead tr:only-child th {\n",
       "        text-align: right;\n",
       "    }\n",
       "\n",
       "    .dataframe thead th {\n",
       "        text-align: left;\n",
       "    }\n",
       "\n",
       "    .dataframe tbody tr th {\n",
       "        vertical-align: top;\n",
       "    }\n",
       "</style>\n",
       "<table border=\"1\" class=\"dataframe\">\n",
       "  <thead>\n",
       "    <tr style=\"text-align: right;\">\n",
       "      <th></th>\n",
       "      <th># players(each group)</th>\n",
       "      <th>Average Purchase Price</th>\n",
       "      <th>Normalized Totals</th>\n",
       "      <th>Purchase Count</th>\n",
       "      <th>Total Purchase Value</th>\n",
       "    </tr>\n",
       "    <tr>\n",
       "      <th>Gender</th>\n",
       "      <th></th>\n",
       "      <th></th>\n",
       "      <th></th>\n",
       "      <th></th>\n",
       "      <th></th>\n",
       "    </tr>\n",
       "  </thead>\n",
       "  <tbody>\n",
       "    <tr>\n",
       "      <th>Male</th>\n",
       "      <td>60</td>\n",
       "      <td>$2.88</td>\n",
       "      <td>$3.08</td>\n",
       "      <td>64</td>\n",
       "      <td>$184.60</td>\n",
       "    </tr>\n",
       "    <tr>\n",
       "      <th>Female</th>\n",
       "      <td>13</td>\n",
       "      <td>$3.18</td>\n",
       "      <td>$3.18</td>\n",
       "      <td>13</td>\n",
       "      <td>$41.38</td>\n",
       "    </tr>\n",
       "    <tr>\n",
       "      <th>Other/Non-Disclosed</th>\n",
       "      <td>1</td>\n",
       "      <td>$2.12</td>\n",
       "      <td>$2.12</td>\n",
       "      <td>1</td>\n",
       "      <td>$2.12</td>\n",
       "    </tr>\n",
       "  </tbody>\n",
       "</table>\n",
       "</div>"
      ],
      "text/plain": [
       "                     # players(each group) Average Purchase Price  \\\n",
       "Gender                                                              \n",
       "Male                                    60                  $2.88   \n",
       "Female                                  13                  $3.18   \n",
       "Other/Non-Disclosed                      1                  $2.12   \n",
       "\n",
       "                    Normalized Totals  Purchase Count Total Purchase Value  \n",
       "Gender                                                                      \n",
       "Male                            $3.08              64              $184.60  \n",
       "Female                          $3.18              13               $41.38  \n",
       "Other/Non-Disclosed             $2.12               1                $2.12  "
      ]
     },
     "execution_count": 147,
     "metadata": {},
     "output_type": "execute_result"
    }
   ],
   "source": [
    "purchasing_analysis_gender_df = purchasing_analysis_gender_df.set_index(\"Gender\")\n",
    "purchasing_analysis_gender_df"
   ]
  },
  {
   "cell_type": "code",
   "execution_count": 148,
   "metadata": {
    "collapsed": true
   },
   "outputs": [],
   "source": [
    "#=================================================================================================================="
   ]
  },
  {
   "cell_type": "code",
   "execution_count": 149,
   "metadata": {
    "collapsed": true
   },
   "outputs": [],
   "source": [
    "##################### This is the Starting section for \" PURCHASING ANALYSIS (Age) \" ############################## "
   ]
  },
  {
   "cell_type": "code",
   "execution_count": 150,
   "metadata": {
    "collapsed": true
   },
   "outputs": [],
   "source": [
    "#=================================================================================================================="
   ]
  },
  {
   "cell_type": "code",
   "execution_count": 151,
   "metadata": {},
   "outputs": [
    {
     "data": {
      "text/html": [
       "<div>\n",
       "<style>\n",
       "    .dataframe thead tr:only-child th {\n",
       "        text-align: right;\n",
       "    }\n",
       "\n",
       "    .dataframe thead th {\n",
       "        text-align: left;\n",
       "    }\n",
       "\n",
       "    .dataframe tbody tr th {\n",
       "        vertical-align: top;\n",
       "    }\n",
       "</style>\n",
       "<table border=\"1\" class=\"dataframe\">\n",
       "  <thead>\n",
       "    <tr style=\"text-align: right;\">\n",
       "      <th></th>\n",
       "      <th>Age</th>\n",
       "      <th>Gender</th>\n",
       "      <th>Item ID</th>\n",
       "      <th>Item Name</th>\n",
       "      <th>Price</th>\n",
       "      <th>SN</th>\n",
       "    </tr>\n",
       "  </thead>\n",
       "  <tbody>\n",
       "    <tr>\n",
       "      <th>0</th>\n",
       "      <td>20</td>\n",
       "      <td>Male</td>\n",
       "      <td>93</td>\n",
       "      <td>Apocalyptic Battlescythe</td>\n",
       "      <td>4.49</td>\n",
       "      <td>Iloni35</td>\n",
       "    </tr>\n",
       "    <tr>\n",
       "      <th>1</th>\n",
       "      <td>21</td>\n",
       "      <td>Male</td>\n",
       "      <td>12</td>\n",
       "      <td>Dawne</td>\n",
       "      <td>3.36</td>\n",
       "      <td>Aidaira26</td>\n",
       "    </tr>\n",
       "    <tr>\n",
       "      <th>2</th>\n",
       "      <td>17</td>\n",
       "      <td>Male</td>\n",
       "      <td>5</td>\n",
       "      <td>Putrid Fan</td>\n",
       "      <td>2.63</td>\n",
       "      <td>Irim47</td>\n",
       "    </tr>\n",
       "    <tr>\n",
       "      <th>3</th>\n",
       "      <td>17</td>\n",
       "      <td>Male</td>\n",
       "      <td>123</td>\n",
       "      <td>Twilight's Carver</td>\n",
       "      <td>2.55</td>\n",
       "      <td>Irith83</td>\n",
       "    </tr>\n",
       "    <tr>\n",
       "      <th>4</th>\n",
       "      <td>22</td>\n",
       "      <td>Male</td>\n",
       "      <td>154</td>\n",
       "      <td>Feral Katana</td>\n",
       "      <td>4.11</td>\n",
       "      <td>Philodil43</td>\n",
       "    </tr>\n",
       "  </tbody>\n",
       "</table>\n",
       "</div>"
      ],
      "text/plain": [
       "   Age Gender  Item ID                 Item Name  Price          SN\n",
       "0   20   Male       93  Apocalyptic Battlescythe   4.49     Iloni35\n",
       "1   21   Male       12                     Dawne   3.36   Aidaira26\n",
       "2   17   Male        5                Putrid Fan   2.63      Irim47\n",
       "3   17   Male      123         Twilight's Carver   2.55     Irith83\n",
       "4   22   Male      154              Feral Katana   4.11  Philodil43"
      ]
     },
     "execution_count": 151,
     "metadata": {},
     "output_type": "execute_result"
    }
   ],
   "source": [
    "# First call my_data to examine it \n",
    "clean_df.head()"
   ]
  },
  {
   "cell_type": "code",
   "execution_count": 152,
   "metadata": {
    "collapsed": true
   },
   "outputs": [],
   "source": [
    "#clean_df[\"SN\"].count()\n",
    "# This is the dataframe object which has all the sum of \"Price\" column grouped with the \"Gender\"\n",
    "sum_Age_df = grouped_Gender_df[[\"Price\"]].sum()\n",
    "#sum_Age_df"
   ]
  },
  {
   "cell_type": "code",
   "execution_count": 153,
   "metadata": {},
   "outputs": [
    {
     "data": {
      "text/plain": [
       "0     20-24\n",
       "1     20-24\n",
       "2     15-19\n",
       "3     15-19\n",
       "4     20-24\n",
       "5       <10\n",
       "6       40+\n",
       "7     25-29\n",
       "8     15-19\n",
       "9     35-39\n",
       "10    20-24\n",
       "11    35-39\n",
       "12    20-24\n",
       "13    30-34\n",
       "14      <10\n",
       "15    20-24\n",
       "16    20-24\n",
       "17      <10\n",
       "18    10-14\n",
       "19    20-24\n",
       "20    35-39\n",
       "21    10-14\n",
       "22    15-19\n",
       "23    20-24\n",
       "24    20-24\n",
       "25    15-19\n",
       "26      <10\n",
       "27    25-29\n",
       "28    20-24\n",
       "29    20-24\n",
       "      ...  \n",
       "48    25-29\n",
       "49    20-24\n",
       "50    20-24\n",
       "51    25-29\n",
       "52    20-24\n",
       "53    15-19\n",
       "54    25-29\n",
       "55    20-24\n",
       "56    15-19\n",
       "57    20-24\n",
       "58    30-34\n",
       "59    35-39\n",
       "60    20-24\n",
       "61    20-24\n",
       "62    15-19\n",
       "63    10-14\n",
       "64    20-24\n",
       "65    20-24\n",
       "66    20-24\n",
       "67    20-24\n",
       "68    20-24\n",
       "69    30-34\n",
       "70    25-29\n",
       "71    25-29\n",
       "72    20-24\n",
       "73    35-39\n",
       "74    35-39\n",
       "75    15-19\n",
       "76    20-24\n",
       "77    20-24\n",
       "Name: Age, Length: 78, dtype: category\n",
       "Categories (8, object): [<10 < 10-14 < 15-19 < 20-24 < 25-29 < 30-34 < 35-39 < 40+]"
      ]
     },
     "execution_count": 153,
     "metadata": {},
     "output_type": "execute_result"
    }
   ],
   "source": [
    "#Create bins and bin labels for the Age Column\n",
    "\n",
    "age_bins = [0, 9, 14, 19, 24, 29, 34, 39, 100]\n",
    "age_labels = [\"<10\", \"10-14\", \"15-19\", \"20-24\", \"25-29\", \"30-34\", \"35-39\", \"40+\" ]\n",
    "\n",
    "#Bin the Age column\n",
    "# cut() returns a Pandas Series containing each of the binned column's values translated into their corresponding bins\n",
    "\n",
    "pd.cut(clean_df[\"Age\"], age_bins, labels=age_labels)"
   ]
  },
  {
   "cell_type": "code",
   "execution_count": 154,
   "metadata": {},
   "outputs": [
    {
     "data": {
      "text/plain": [
       "list"
      ]
     },
     "execution_count": 154,
     "metadata": {},
     "output_type": "execute_result"
    }
   ],
   "source": [
    "type(age_bins)"
   ]
  },
  {
   "cell_type": "code",
   "execution_count": 155,
   "metadata": {
    "collapsed": true
   },
   "outputs": [],
   "source": [
    "# We can append our new bins to clean_df\n",
    "\n",
    "clean_df[\"Age_Category\"] = pd.cut(clean_df[\"Age\"], age_bins, labels=age_labels)\n",
    "#clean_df.head()"
   ]
  },
  {
   "cell_type": "code",
   "execution_count": 156,
   "metadata": {},
   "outputs": [],
   "source": [
    "# Binning allowing for more vigorous analysis\n",
    "# we can now group by our bins for mean/Average value\n",
    "\n",
    "grouped_age_purchase_df = clean_df.groupby(\"Age_Category\")\n",
    "\n",
    " \n",
    "#avg_purchase_price = grouped_age_purchase_df[\"Price\"].mean()\n",
    "#grouped_age_purchase_df"
   ]
  },
  {
   "cell_type": "code",
   "execution_count": 157,
   "metadata": {},
   "outputs": [
    {
     "data": {
      "text/plain": [
       "Age_Category\n",
       "<10       13.82\n",
       "10-14      8.96\n",
       "15-19     30.41\n",
       "20-24    108.89\n",
       "25-29     26.11\n",
       "30-34     13.89\n",
       "35-39     21.37\n",
       "40+        4.65\n",
       "Name: Price, dtype: float64"
      ]
     },
     "execution_count": 157,
     "metadata": {},
     "output_type": "execute_result"
    }
   ],
   "source": [
    "# Binning allowing for more vigorous analysis\n",
    "# we can now group by our bins for sum value\n",
    "\n",
    "grouped_age_purchase_df = clean_df.groupby(\"Age_Category\")\n",
    " \n",
    "#This is to create in variables to assign the values of sum later\n",
    "tot_purchase_value = grouped_age_purchase_df[\"Price\" ].sum() \n",
    "tot_purchase_value"
   ]
  },
  {
   "cell_type": "code",
   "execution_count": 158,
   "metadata": {
    "collapsed": true
   },
   "outputs": [],
   "source": [
    "# This gives us the count of all the bins in categorized\n",
    "#grouped_age_purchase_df.count()\n",
    " "
   ]
  },
  {
   "cell_type": "code",
   "execution_count": 159,
   "metadata": {
    "collapsed": true
   },
   "outputs": [],
   "source": [
    "purchase_count = grouped_age_purchase_df[\"Gender\"].value_counts() # saving in variables\n",
    "p1 = purchase_count.loc['<10'].sum()\n",
    "p2 = purchase_count.loc['10-14'].sum()\n",
    "p3 = purchase_count.loc['15-19'].sum()\n",
    "p4 = purchase_count.loc['20-24'].sum()\n",
    "p5 = purchase_count.loc['25-29'].sum()\n",
    "p6 = purchase_count.loc['30-34'].sum()\n",
    "p7 = purchase_count.loc['35-39'].sum()\n",
    "p8 = purchase_count.loc['40+'].sum()\n",
    "\n",
    "#purchase_count \n",
    "#purchase_count.loc['<10'].sum()\n"
   ]
  },
  {
   "cell_type": "code",
   "execution_count": 160,
   "metadata": {
    "collapsed": true,
    "scrolled": true
   },
   "outputs": [],
   "source": [
    "# Normalized Totals for Age demographics\n",
    "# Total Purchase Value/# of people each group\n",
    "normalized1 = tot_purchase_value.iloc[0]/p1\n",
    "normalized2 = tot_purchase_value.iloc[1]/p2\n",
    "normalized3 = tot_purchase_value.iloc[2]/p3\n",
    "normalized4 = tot_purchase_value.iloc[3]/p4\n",
    "normalized5 = tot_purchase_value.iloc[4]/p5\n",
    "normalized6 = tot_purchase_value.iloc[5]/p6\n",
    "normalized7 = tot_purchase_value.iloc[6]/p7\n",
    "normalized8 = tot_purchase_value.iloc[7]/p8\n",
    " \n",
    "#normalized2"
   ]
  },
  {
   "cell_type": "code",
   "execution_count": 161,
   "metadata": {
    "collapsed": true
   },
   "outputs": [],
   "source": [
    "# Average purchase price (Total Purchase value/purchase count) \n",
    "avg_purchase1 = tot_purchase_value.iloc[0]/purchase_count.iloc[0]\n",
    "avg_purchase2 = tot_purchase_value.iloc[1]/purchase_count.iloc[1]\n",
    "avg_purchase3 = tot_purchase_value.iloc[2]/purchase_count.iloc[2]\n",
    "avg_purchase4 = tot_purchase_value.iloc[3]/purchase_count.iloc[3]\n",
    "avg_purchase5 = tot_purchase_value.iloc[4]/purchase_count.iloc[4]\n",
    "avg_purchase6 = tot_purchase_value.iloc[5]/purchase_count.iloc[5]\n",
    "avg_purchase7 = tot_purchase_value.iloc[6]/purchase_count.iloc[6]\n",
    "avg_purchase8 = tot_purchase_value.iloc[7]/purchase_count.iloc[7]\n"
   ]
  },
  {
   "cell_type": "code",
   "execution_count": 162,
   "metadata": {},
   "outputs": [
    {
     "data": {
      "text/html": [
       "<div>\n",
       "<style>\n",
       "    .dataframe thead tr:only-child th {\n",
       "        text-align: right;\n",
       "    }\n",
       "\n",
       "    .dataframe thead th {\n",
       "        text-align: left;\n",
       "    }\n",
       "\n",
       "    .dataframe tbody tr th {\n",
       "        vertical-align: top;\n",
       "    }\n",
       "</style>\n",
       "<table border=\"1\" class=\"dataframe\">\n",
       "  <thead>\n",
       "    <tr style=\"text-align: right;\">\n",
       "      <th></th>\n",
       "      <th># people each group</th>\n",
       "      <th>Average Purchase Price</th>\n",
       "      <th>Normalized Totals</th>\n",
       "      <th>Purchase Count</th>\n",
       "      <th>Total Purchase Value</th>\n",
       "    </tr>\n",
       "    <tr>\n",
       "      <th>Age</th>\n",
       "      <th></th>\n",
       "      <th></th>\n",
       "      <th></th>\n",
       "      <th></th>\n",
       "      <th></th>\n",
       "    </tr>\n",
       "  </thead>\n",
       "  <tbody>\n",
       "    <tr>\n",
       "      <th>&lt;10</th>\n",
       "      <td>5</td>\n",
       "      <td>$2.76</td>\n",
       "      <td>$2.76</td>\n",
       "      <td>5</td>\n",
       "      <td>$13.82</td>\n",
       "    </tr>\n",
       "    <tr>\n",
       "      <th>10-14</th>\n",
       "      <td>3</td>\n",
       "      <td>$8.96</td>\n",
       "      <td>$2.99</td>\n",
       "      <td>1</td>\n",
       "      <td>$8.96</td>\n",
       "    </tr>\n",
       "    <tr>\n",
       "      <th>15-19</th>\n",
       "      <td>11</td>\n",
       "      <td>$30.41</td>\n",
       "      <td>$2.76</td>\n",
       "      <td>1</td>\n",
       "      <td>$30.41</td>\n",
       "    </tr>\n",
       "    <tr>\n",
       "      <th>20-24</th>\n",
       "      <td>36</td>\n",
       "      <td>$108.89</td>\n",
       "      <td>$3.02</td>\n",
       "      <td>1</td>\n",
       "      <td>$108.89</td>\n",
       "    </tr>\n",
       "    <tr>\n",
       "      <th>25-29</th>\n",
       "      <td>9</td>\n",
       "      <td>$2.90</td>\n",
       "      <td>$2.90</td>\n",
       "      <td>9</td>\n",
       "      <td>$26.11</td>\n",
       "    </tr>\n",
       "    <tr>\n",
       "      <th>30-34</th>\n",
       "      <td>7</td>\n",
       "      <td>$6.94</td>\n",
       "      <td>$1.98</td>\n",
       "      <td>2</td>\n",
       "      <td>$13.89</td>\n",
       "    </tr>\n",
       "    <tr>\n",
       "      <th>35-39</th>\n",
       "      <td>6</td>\n",
       "      <td>$0.74</td>\n",
       "      <td>$3.56</td>\n",
       "      <td>29</td>\n",
       "      <td>$21.37</td>\n",
       "    </tr>\n",
       "    <tr>\n",
       "      <th>40+</th>\n",
       "      <td>1</td>\n",
       "      <td>$0.66</td>\n",
       "      <td>$4.65</td>\n",
       "      <td>7</td>\n",
       "      <td>$4.65</td>\n",
       "    </tr>\n",
       "  </tbody>\n",
       "</table>\n",
       "</div>"
      ],
      "text/plain": [
       "       # people each group Average Purchase Price Normalized Totals  \\\n",
       "Age                                                                   \n",
       "<10                      5                  $2.76             $2.76   \n",
       "10-14                    3                  $8.96             $2.99   \n",
       "15-19                   11                 $30.41             $2.76   \n",
       "20-24                   36                $108.89             $3.02   \n",
       "25-29                    9                  $2.90             $2.90   \n",
       "30-34                    7                  $6.94             $1.98   \n",
       "35-39                    6                  $0.74             $3.56   \n",
       "40+                      1                  $0.66             $4.65   \n",
       "\n",
       "       Purchase Count Total Purchase Value  \n",
       "Age                                         \n",
       "<10                 5               $13.82  \n",
       "10-14               1                $8.96  \n",
       "15-19               1               $30.41  \n",
       "20-24               1              $108.89  \n",
       "25-29               9               $26.11  \n",
       "30-34               2               $13.89  \n",
       "35-39              29               $21.37  \n",
       "40+                 7                $4.65  "
      ]
     },
     "execution_count": 162,
     "metadata": {},
     "output_type": "execute_result"
    }
   ],
   "source": [
    "# Creating a new dataframe for Purchasing Analysis (Age)\n",
    "purchasing_analysis_Age_dic = {\"Age\": [\"<10\", \"10-14\", \"15-19\", \"20-24\", \"25-29\", \"30-34\", \"35-39\", \"40+\"],\n",
    "                                  \"Average Purchase Price\": [avg_purchase1,\n",
    "                                                             avg_purchase2,\n",
    "                                                             avg_purchase3,\n",
    "                                                             avg_purchase4,\n",
    "                                                             avg_purchase5,\n",
    "                                                             avg_purchase6,\n",
    "                                                             avg_purchase7,\n",
    "                                                             avg_purchase8],\n",
    "                                  \"Total Purchase Value\": [tot_purchase_value.iloc[0],\n",
    "                                                           tot_purchase_value.iloc[1],\n",
    "                                                           tot_purchase_value.iloc[2],\n",
    "                                                           tot_purchase_value.iloc[3],\n",
    "                                                           tot_purchase_value.iloc[4],\n",
    "                                                           tot_purchase_value.iloc[5],\n",
    "                                                           tot_purchase_value.iloc[6],\n",
    "                                                           tot_purchase_value.iloc[7]],\n",
    "                                  \"Normalized Totals\": [normalized1,\n",
    "                                                        normalized2,\n",
    "                                                        normalized3,\n",
    "                                                        normalized4,\n",
    "                                                        normalized5,\n",
    "                                                        normalized6,\n",
    "                                                        normalized7,\n",
    "                                                        normalized8],\n",
    "                                  \"Purchase Count\": [purchase_count.iloc[0],\n",
    "                                                     purchase_count.iloc[1],\n",
    "                                                     purchase_count.iloc[2],\n",
    "                                                     purchase_count.iloc[3],\n",
    "                                                     purchase_count.iloc[4],\n",
    "                                                     purchase_count.iloc[5],\n",
    "                                                     purchase_count.iloc[6],\n",
    "                                                     purchase_count.iloc[7]],\n",
    "                                    \"# people each group\": [p1,\n",
    "                                                               p2,\n",
    "                                                               p3,\n",
    "                                                               p4,\n",
    "                                                               p5,\n",
    "                                                               p6,\n",
    "                                                               p7,\n",
    "                                                               p8]}\n",
    "\n",
    "purchasing_analysis_Age_df = pd.DataFrame(purchasing_analysis_Age_dic) # Set the row index to be \"Age\"\n",
    "\n",
    "purchasing_analysis_Age_df['Average Purchase Price'] = purchasing_analysis_Age_df['Average Purchase Price'].apply(dollarsign)\n",
    "purchasing_analysis_Age_df['Total Purchase Value'] = purchasing_analysis_Age_df['Total Purchase Value'].apply(dollarsign)\n",
    "purchasing_analysis_Age_df['Normalized Totals'] = purchasing_analysis_Age_df['Normalized Totals'].apply(dollarsign)\n",
    "\n",
    "purchasing_analysis_Age_df = purchasing_analysis_Age_df.set_index(\"Age\")\n",
    "purchasing_analysis_Age_df\n",
    "\n",
    "purchasing_analysis_Age_df\n"
   ]
  },
  {
   "cell_type": "code",
   "execution_count": 402,
   "metadata": {
    "collapsed": true
   },
   "outputs": [],
   "source": [
    "#=================================================================================================================="
   ]
  },
  {
   "cell_type": "code",
   "execution_count": 403,
   "metadata": {
    "collapsed": true
   },
   "outputs": [],
   "source": [
    "##################### This is the Starting section for \" TOP SPENDERS \" ############################## "
   ]
  },
  {
   "cell_type": "code",
   "execution_count": 404,
   "metadata": {
    "collapsed": true
   },
   "outputs": [],
   "source": [
    "#=================================================================================================================="
   ]
  },
  {
   "cell_type": "code",
   "execution_count": 426,
   "metadata": {},
   "outputs": [
    {
     "data": {
      "text/html": [
       "<div>\n",
       "<style>\n",
       "    .dataframe thead tr:only-child th {\n",
       "        text-align: right;\n",
       "    }\n",
       "\n",
       "    .dataframe thead th {\n",
       "        text-align: left;\n",
       "    }\n",
       "\n",
       "    .dataframe tbody tr th {\n",
       "        vertical-align: top;\n",
       "    }\n",
       "</style>\n",
       "<table border=\"1\" class=\"dataframe\">\n",
       "  <thead>\n",
       "    <tr style=\"text-align: right;\">\n",
       "      <th></th>\n",
       "      <th>Age</th>\n",
       "      <th>Gender</th>\n",
       "      <th>Item ID</th>\n",
       "      <th>Item Name</th>\n",
       "      <th>Price</th>\n",
       "      <th>SN</th>\n",
       "      <th>Age_Category</th>\n",
       "    </tr>\n",
       "  </thead>\n",
       "  <tbody>\n",
       "    <tr>\n",
       "      <th>0</th>\n",
       "      <td>20</td>\n",
       "      <td>Male</td>\n",
       "      <td>93</td>\n",
       "      <td>Apocalyptic Battlescythe</td>\n",
       "      <td>4.49</td>\n",
       "      <td>Iloni35</td>\n",
       "      <td>20-24</td>\n",
       "    </tr>\n",
       "    <tr>\n",
       "      <th>1</th>\n",
       "      <td>21</td>\n",
       "      <td>Male</td>\n",
       "      <td>12</td>\n",
       "      <td>Dawne</td>\n",
       "      <td>3.36</td>\n",
       "      <td>Aidaira26</td>\n",
       "      <td>20-24</td>\n",
       "    </tr>\n",
       "    <tr>\n",
       "      <th>2</th>\n",
       "      <td>17</td>\n",
       "      <td>Male</td>\n",
       "      <td>5</td>\n",
       "      <td>Putrid Fan</td>\n",
       "      <td>2.63</td>\n",
       "      <td>Irim47</td>\n",
       "      <td>15-19</td>\n",
       "    </tr>\n",
       "    <tr>\n",
       "      <th>3</th>\n",
       "      <td>17</td>\n",
       "      <td>Male</td>\n",
       "      <td>123</td>\n",
       "      <td>Twilight's Carver</td>\n",
       "      <td>2.55</td>\n",
       "      <td>Irith83</td>\n",
       "      <td>15-19</td>\n",
       "    </tr>\n",
       "    <tr>\n",
       "      <th>4</th>\n",
       "      <td>22</td>\n",
       "      <td>Male</td>\n",
       "      <td>154</td>\n",
       "      <td>Feral Katana</td>\n",
       "      <td>4.11</td>\n",
       "      <td>Philodil43</td>\n",
       "      <td>20-24</td>\n",
       "    </tr>\n",
       "  </tbody>\n",
       "</table>\n",
       "</div>"
      ],
      "text/plain": [
       "   Age Gender  Item ID                 Item Name  Price          SN  \\\n",
       "0   20   Male       93  Apocalyptic Battlescythe   4.49     Iloni35   \n",
       "1   21   Male       12                     Dawne   3.36   Aidaira26   \n",
       "2   17   Male        5                Putrid Fan   2.63      Irim47   \n",
       "3   17   Male      123         Twilight's Carver   2.55     Irith83   \n",
       "4   22   Male      154              Feral Katana   4.11  Philodil43   \n",
       "\n",
       "  Age_Category  \n",
       "0        20-24  \n",
       "1        20-24  \n",
       "2        15-19  \n",
       "3        15-19  \n",
       "4        20-24  "
      ]
     },
     "execution_count": 426,
     "metadata": {},
     "output_type": "execute_result"
    }
   ],
   "source": [
    "# First call my_data to examine it \n",
    "clean_df.head()"
   ]
  },
  {
   "cell_type": "code",
   "execution_count": 427,
   "metadata": {},
   "outputs": [],
   "source": [
    "#create a new FILTERABLE object that has the count of each group (Male, Female, Other count) \n",
    "\n",
    "grouped_df = clean_df.groupby([\"SN\"])['Price'].sum()\n",
    "#grouped_df\n",
    "\n",
    "#Saving in a DataFrame format. Building the tables one by one\n",
    "#grouped_SN = clean_df.groupby([\"SN\"]).agg({'Price': 'sum'})\n",
    "top_spenders_df = pd.DataFrame(grouped_df)\n",
    "#top_spenders_df.head()\n",
    " "
   ]
  },
  {
   "cell_type": "code",
   "execution_count": 428,
   "metadata": {
    "collapsed": true
   },
   "outputs": [],
   "source": [
    "#Rename the column Price to \"Total Purchase Value\"\n",
    "top_spenders_df.rename(columns={'Price': 'Total_Purchase_Value'}, inplace=True)"
   ]
  },
  {
   "cell_type": "code",
   "execution_count": 415,
   "metadata": {},
   "outputs": [],
   "source": [
    "# To get the count of the players for each category\n",
    "grouped_count = clean_df.groupby([\"SN\"])['Age'].count()\n",
    "#grouped_count"
   ]
  },
  {
   "cell_type": "code",
   "execution_count": 429,
   "metadata": {},
   "outputs": [],
   "source": [
    "# Pass in drop=True to prevent appending a new column with the old indexes to the dataframe\n",
    "#top_spenders_df.reset_index(drop=True)\n",
    "#top_spenders_df.head()\n",
    "\n",
    "top_spenders_df['Purchase_Count'] = pd.DataFrame(clean_df.groupby([\"SN\"])['Age'].count())\n",
    "top_spenders_df['Average_Purchase_Price'] = top_spenders_df['Total_Purchase_Value'].div(top_spenders_df['Purchase_Count'])\n",
    "\n",
    " \n",
    "#top_spenders_df.head()\n",
    " \n",
    "\n"
   ]
  },
  {
   "cell_type": "code",
   "execution_count": 436,
   "metadata": {},
   "outputs": [],
   "source": [
    "# Sorting in the highest values of top 5 player purchases\n",
    "sorted_df =top_spenders_df.sort_values(\"Total_Purchase_Value\", ascending=False) \n",
    "#sorted_df = sorted_df.reset_index(drop=True)\n",
    "#sorted_df.head()"
   ]
  },
  {
   "cell_type": "code",
   "execution_count": 437,
   "metadata": {},
   "outputs": [
    {
     "data": {
      "text/html": [
       "<div>\n",
       "<style>\n",
       "    .dataframe thead tr:only-child th {\n",
       "        text-align: right;\n",
       "    }\n",
       "\n",
       "    .dataframe thead th {\n",
       "        text-align: left;\n",
       "    }\n",
       "\n",
       "    .dataframe tbody tr th {\n",
       "        vertical-align: top;\n",
       "    }\n",
       "</style>\n",
       "<table border=\"1\" class=\"dataframe\">\n",
       "  <thead>\n",
       "    <tr style=\"text-align: right;\">\n",
       "      <th></th>\n",
       "      <th>Total_Purchase_Value</th>\n",
       "      <th>Purchase_Count</th>\n",
       "      <th>Average_Purchase_Price</th>\n",
       "    </tr>\n",
       "    <tr>\n",
       "      <th>SN</th>\n",
       "      <th></th>\n",
       "      <th></th>\n",
       "      <th></th>\n",
       "    </tr>\n",
       "  </thead>\n",
       "  <tbody>\n",
       "    <tr>\n",
       "      <th>Sundaky74</th>\n",
       "      <td>$7.41</td>\n",
       "      <td>2</td>\n",
       "      <td>$3.71</td>\n",
       "    </tr>\n",
       "    <tr>\n",
       "      <th>Aidaira26</th>\n",
       "      <td>$5.13</td>\n",
       "      <td>2</td>\n",
       "      <td>$2.56</td>\n",
       "    </tr>\n",
       "    <tr>\n",
       "      <th>Eusty71</th>\n",
       "      <td>$4.81</td>\n",
       "      <td>1</td>\n",
       "      <td>$4.81</td>\n",
       "    </tr>\n",
       "    <tr>\n",
       "      <th>Chanirra64</th>\n",
       "      <td>$4.78</td>\n",
       "      <td>1</td>\n",
       "      <td>$4.78</td>\n",
       "    </tr>\n",
       "    <tr>\n",
       "      <th>Alarap40</th>\n",
       "      <td>$4.71</td>\n",
       "      <td>1</td>\n",
       "      <td>$4.71</td>\n",
       "    </tr>\n",
       "  </tbody>\n",
       "</table>\n",
       "</div>"
      ],
      "text/plain": [
       "           Total_Purchase_Value  Purchase_Count Average_Purchase_Price\n",
       "SN                                                                    \n",
       "Sundaky74                 $7.41               2                  $3.71\n",
       "Aidaira26                 $5.13               2                  $2.56\n",
       "Eusty71                   $4.81               1                  $4.81\n",
       "Chanirra64                $4.78               1                  $4.78\n",
       "Alarap40                  $4.71               1                  $4.71"
      ]
     },
     "execution_count": 437,
     "metadata": {},
     "output_type": "execute_result"
    }
   ],
   "source": [
    "# After the sorting, then formating the sorted values, because the sort does not work with formats '$'\n",
    "format_top_spenders_df = sorted_df\n",
    "format_top_spenders_df['Average_Purchase_Price'] = format_top_spenders_df['Average_Purchase_Price'].apply(dollarsign)\n",
    "format_top_spenders_df['Total_Purchase_Value'] = format_top_spenders_df['Total_Purchase_Value'].apply(dollarsign)\n",
    "format_top_spenders_df.head()"
   ]
  },
  {
   "cell_type": "code",
   "execution_count": 435,
   "metadata": {
    "collapsed": true
   },
   "outputs": [],
   "source": [
    "#==================================================================================================================#"
   ]
  },
  {
   "cell_type": "code",
   "execution_count": 323,
   "metadata": {
    "collapsed": true
   },
   "outputs": [],
   "source": [
    "##################### This is the Starting section for \" MOST POPULAR ITEMS \" ############################## "
   ]
  },
  {
   "cell_type": "code",
   "execution_count": 324,
   "metadata": {
    "collapsed": true
   },
   "outputs": [],
   "source": [
    "#==================================================================================================================#"
   ]
  },
  {
   "cell_type": "code",
   "execution_count": 325,
   "metadata": {},
   "outputs": [
    {
     "data": {
      "text/html": [
       "<div>\n",
       "<style>\n",
       "    .dataframe thead tr:only-child th {\n",
       "        text-align: right;\n",
       "    }\n",
       "\n",
       "    .dataframe thead th {\n",
       "        text-align: left;\n",
       "    }\n",
       "\n",
       "    .dataframe tbody tr th {\n",
       "        vertical-align: top;\n",
       "    }\n",
       "</style>\n",
       "<table border=\"1\" class=\"dataframe\">\n",
       "  <thead>\n",
       "    <tr style=\"text-align: right;\">\n",
       "      <th></th>\n",
       "      <th>Age</th>\n",
       "      <th>Gender</th>\n",
       "      <th>Item ID</th>\n",
       "      <th>Item Name</th>\n",
       "      <th>Price</th>\n",
       "      <th>SN</th>\n",
       "      <th>Age_Category</th>\n",
       "    </tr>\n",
       "  </thead>\n",
       "  <tbody>\n",
       "    <tr>\n",
       "      <th>0</th>\n",
       "      <td>20</td>\n",
       "      <td>Male</td>\n",
       "      <td>93</td>\n",
       "      <td>Apocalyptic Battlescythe</td>\n",
       "      <td>4.49</td>\n",
       "      <td>Iloni35</td>\n",
       "      <td>20-24</td>\n",
       "    </tr>\n",
       "    <tr>\n",
       "      <th>1</th>\n",
       "      <td>21</td>\n",
       "      <td>Male</td>\n",
       "      <td>12</td>\n",
       "      <td>Dawne</td>\n",
       "      <td>3.36</td>\n",
       "      <td>Aidaira26</td>\n",
       "      <td>20-24</td>\n",
       "    </tr>\n",
       "    <tr>\n",
       "      <th>2</th>\n",
       "      <td>17</td>\n",
       "      <td>Male</td>\n",
       "      <td>5</td>\n",
       "      <td>Putrid Fan</td>\n",
       "      <td>2.63</td>\n",
       "      <td>Irim47</td>\n",
       "      <td>15-19</td>\n",
       "    </tr>\n",
       "    <tr>\n",
       "      <th>3</th>\n",
       "      <td>17</td>\n",
       "      <td>Male</td>\n",
       "      <td>123</td>\n",
       "      <td>Twilight's Carver</td>\n",
       "      <td>2.55</td>\n",
       "      <td>Irith83</td>\n",
       "      <td>15-19</td>\n",
       "    </tr>\n",
       "    <tr>\n",
       "      <th>4</th>\n",
       "      <td>22</td>\n",
       "      <td>Male</td>\n",
       "      <td>154</td>\n",
       "      <td>Feral Katana</td>\n",
       "      <td>4.11</td>\n",
       "      <td>Philodil43</td>\n",
       "      <td>20-24</td>\n",
       "    </tr>\n",
       "  </tbody>\n",
       "</table>\n",
       "</div>"
      ],
      "text/plain": [
       "   Age Gender  Item ID                 Item Name  Price          SN  \\\n",
       "0   20   Male       93  Apocalyptic Battlescythe   4.49     Iloni35   \n",
       "1   21   Male       12                     Dawne   3.36   Aidaira26   \n",
       "2   17   Male        5                Putrid Fan   2.63      Irim47   \n",
       "3   17   Male      123         Twilight's Carver   2.55     Irith83   \n",
       "4   22   Male      154              Feral Katana   4.11  Philodil43   \n",
       "\n",
       "  Age_Category  \n",
       "0        20-24  \n",
       "1        20-24  \n",
       "2        15-19  \n",
       "3        15-19  \n",
       "4        20-24  "
      ]
     },
     "execution_count": 325,
     "metadata": {},
     "output_type": "execute_result"
    }
   ],
   "source": [
    "# First call my_data to examine it \n",
    "clean_df.head() "
   ]
  },
  {
   "cell_type": "code",
   "execution_count": 337,
   "metadata": {},
   "outputs": [
    {
     "data": {
      "text/html": [
       "<div>\n",
       "<style>\n",
       "    .dataframe thead tr:only-child th {\n",
       "        text-align: right;\n",
       "    }\n",
       "\n",
       "    .dataframe thead th {\n",
       "        text-align: left;\n",
       "    }\n",
       "\n",
       "    .dataframe tbody tr th {\n",
       "        vertical-align: top;\n",
       "    }\n",
       "</style>\n",
       "<table border=\"1\" class=\"dataframe\">\n",
       "  <thead>\n",
       "    <tr style=\"text-align: right;\">\n",
       "      <th></th>\n",
       "      <th>Age</th>\n",
       "      <th>Gender</th>\n",
       "      <th>Item ID</th>\n",
       "      <th>Price</th>\n",
       "      <th>SN</th>\n",
       "      <th>Age_Category</th>\n",
       "    </tr>\n",
       "    <tr>\n",
       "      <th>Item Name</th>\n",
       "      <th></th>\n",
       "      <th></th>\n",
       "      <th></th>\n",
       "      <th></th>\n",
       "      <th></th>\n",
       "      <th></th>\n",
       "    </tr>\n",
       "  </thead>\n",
       "  <tbody>\n",
       "    <tr>\n",
       "      <th>Apocalyptic Battlescythe</th>\n",
       "      <td>20</td>\n",
       "      <td>Male</td>\n",
       "      <td>93</td>\n",
       "      <td>4.49</td>\n",
       "      <td>Iloni35</td>\n",
       "      <td>20-24</td>\n",
       "    </tr>\n",
       "    <tr>\n",
       "      <th>Dawne</th>\n",
       "      <td>21</td>\n",
       "      <td>Male</td>\n",
       "      <td>12</td>\n",
       "      <td>3.36</td>\n",
       "      <td>Aidaira26</td>\n",
       "      <td>20-24</td>\n",
       "    </tr>\n",
       "    <tr>\n",
       "      <th>Putrid Fan</th>\n",
       "      <td>17</td>\n",
       "      <td>Male</td>\n",
       "      <td>5</td>\n",
       "      <td>2.63</td>\n",
       "      <td>Irim47</td>\n",
       "      <td>15-19</td>\n",
       "    </tr>\n",
       "    <tr>\n",
       "      <th>Twilight's Carver</th>\n",
       "      <td>17</td>\n",
       "      <td>Male</td>\n",
       "      <td>123</td>\n",
       "      <td>2.55</td>\n",
       "      <td>Irith83</td>\n",
       "      <td>15-19</td>\n",
       "    </tr>\n",
       "    <tr>\n",
       "      <th>Feral Katana</th>\n",
       "      <td>22</td>\n",
       "      <td>Male</td>\n",
       "      <td>154</td>\n",
       "      <td>4.11</td>\n",
       "      <td>Philodil43</td>\n",
       "      <td>20-24</td>\n",
       "    </tr>\n",
       "  </tbody>\n",
       "</table>\n",
       "</div>"
      ],
      "text/plain": [
       "                          Age Gender  Item ID  Price          SN Age_Category\n",
       "Item Name                                                                    \n",
       "Apocalyptic Battlescythe   20   Male       93   4.49     Iloni35        20-24\n",
       "Dawne                      21   Male       12   3.36   Aidaira26        20-24\n",
       "Putrid Fan                 17   Male        5   2.63      Irim47        15-19\n",
       "Twilight's Carver          17   Male      123   2.55     Irith83        15-19\n",
       "Feral Katana               22   Male      154   4.11  Philodil43        20-24"
      ]
     },
     "execution_count": 337,
     "metadata": {},
     "output_type": "execute_result"
    }
   ],
   "source": [
    "# Set Item ID as our index\n",
    "clean_df_indexed_on_id = clean_df.set_index('Item Name')\n",
    "clean_df_indexed_on_id.head()\n",
    "\n",
    " "
   ]
  },
  {
   "cell_type": "code",
   "execution_count": 338,
   "metadata": {},
   "outputs": [],
   "source": [
    "#clean_df_indexed_on_id.index "
   ]
  },
  {
   "cell_type": "code",
   "execution_count": 339,
   "metadata": {
    "collapsed": true
   },
   "outputs": [],
   "source": [
    "# Grouped Dataframe by Item ID and Item Name and created new dataframe\n",
    "grouped_ItemID_Name_df = clean_df.groupby([\"Item ID\", \"Item Name\"])\n",
    "\n",
    "grouped_ItemID_Name_df.sum()\n",
    "\n",
    "most_popular_df = pd.DataFrame(grouped_ItemID_Name_df.sum())\n",
    "#most_popular_df.head() \n",
    " "
   ]
  },
  {
   "cell_type": "code",
   "execution_count": 340,
   "metadata": {},
   "outputs": [],
   "source": [
    "# adding new column  to existing dataframe\n",
    "most_popular_df['Purchase_Count'] = clean_df.groupby([\"Item ID\", \"Item Name\"])[\"Item Name\"].count()\n",
    "#most_popular_df.head()\n",
    " "
   ]
  },
  {
   "cell_type": "code",
   "execution_count": 341,
   "metadata": {
    "collapsed": true
   },
   "outputs": [],
   "source": [
    "#  Rename column 'Item Price'of Price dataframe \n",
    "most_popular_df = most_popular_df.rename(columns={'Price': 'Item_Price' })\n",
    "#most_popular_df.head()"
   ]
  },
  {
   "cell_type": "code",
   "execution_count": 342,
   "metadata": {},
   "outputs": [],
   "source": [
    "# Total Purchase Value calculations\n",
    "most_popular_df['Total_Purchase_Value'] = most_popular_df['Purchase_Count'].mul(most_popular_df['Item_Price'])\n",
    "\n",
    "most_popular_df['Item_Price'] = most_popular_df['Item_Price'].apply(dollarsign)\n",
    "most_popular_df['Total_Purchase_Value'] = most_popular_df['Total_Purchase_Value'].apply(dollarsign)\n",
    " \n",
    "#most_popular_df.head()"
   ]
  },
  {
   "cell_type": "code",
   "execution_count": 343,
   "metadata": {},
   "outputs": [],
   "source": [
    "# Drop the Age column to create new dataframe of Most popular Items\n",
    "\n",
    " \n",
    "#new_size_df = Heroes_popular_df.sum()\n",
    "most_popular_df.drop('Age', axis = 1, inplace=True )\n",
    " \n",
    "  "
   ]
  },
  {
   "cell_type": "code",
   "execution_count": 344,
   "metadata": {},
   "outputs": [
    {
     "data": {
      "text/html": [
       "<div>\n",
       "<style>\n",
       "    .dataframe thead tr:only-child th {\n",
       "        text-align: right;\n",
       "    }\n",
       "\n",
       "    .dataframe thead th {\n",
       "        text-align: left;\n",
       "    }\n",
       "\n",
       "    .dataframe tbody tr th {\n",
       "        vertical-align: top;\n",
       "    }\n",
       "</style>\n",
       "<table border=\"1\" class=\"dataframe\">\n",
       "  <thead>\n",
       "    <tr style=\"text-align: right;\">\n",
       "      <th></th>\n",
       "      <th></th>\n",
       "      <th>Item_Price</th>\n",
       "      <th>Purchase_Count</th>\n",
       "      <th>Total_Purchase_Value</th>\n",
       "    </tr>\n",
       "    <tr>\n",
       "      <th>Item ID</th>\n",
       "      <th>Item Name</th>\n",
       "      <th></th>\n",
       "      <th></th>\n",
       "      <th></th>\n",
       "    </tr>\n",
       "  </thead>\n",
       "  <tbody>\n",
       "    <tr>\n",
       "      <th>94</th>\n",
       "      <th>Mourning Blade</th>\n",
       "      <td>$10.92</td>\n",
       "      <td>3</td>\n",
       "      <td>$32.76</td>\n",
       "    </tr>\n",
       "    <tr>\n",
       "      <th>90</th>\n",
       "      <th>Betrayer</th>\n",
       "      <td>$8.24</td>\n",
       "      <td>2</td>\n",
       "      <td>$16.48</td>\n",
       "    </tr>\n",
       "    <tr>\n",
       "      <th>111</th>\n",
       "      <th>Misery's End</th>\n",
       "      <td>$3.58</td>\n",
       "      <td>2</td>\n",
       "      <td>$7.16</td>\n",
       "    </tr>\n",
       "    <tr>\n",
       "      <th>64</th>\n",
       "      <th>Fusion Pummel</th>\n",
       "      <td>$4.84</td>\n",
       "      <td>2</td>\n",
       "      <td>$9.68</td>\n",
       "    </tr>\n",
       "    <tr>\n",
       "      <th>154</th>\n",
       "      <th>Feral Katana</th>\n",
       "      <td>$8.22</td>\n",
       "      <td>2</td>\n",
       "      <td>$16.44</td>\n",
       "    </tr>\n",
       "  </tbody>\n",
       "</table>\n",
       "</div>"
      ],
      "text/plain": [
       "                       Item_Price  Purchase_Count Total_Purchase_Value\n",
       "Item ID Item Name                                                     \n",
       "94      Mourning Blade     $10.92               3               $32.76\n",
       "90      Betrayer            $8.24               2               $16.48\n",
       "111     Misery's End        $3.58               2                $7.16\n",
       "64      Fusion Pummel       $4.84               2                $9.68\n",
       "154     Feral Katana        $8.22               2               $16.44"
      ]
     },
     "execution_count": 344,
     "metadata": {},
     "output_type": "execute_result"
    }
   ],
   "source": [
    "# Sorting in the highest values of top 5  purchase count\n",
    "sorted_most_popular_df = most_popular_df.sort_values(\"Purchase_Count\", ascending=False) \n",
    "sorted_most_popular_df.head()"
   ]
  },
  {
   "cell_type": "code",
   "execution_count": 355,
   "metadata": {
    "collapsed": true
   },
   "outputs": [],
   "source": [
    "#==================================================================================================================#"
   ]
  },
  {
   "cell_type": "code",
   "execution_count": 356,
   "metadata": {
    "collapsed": true
   },
   "outputs": [],
   "source": [
    "##################### This is the Starting section for \" MOST PROFITABLE(Purchase Value) ITEMS \" ############################## "
   ]
  },
  {
   "cell_type": "code",
   "execution_count": 357,
   "metadata": {
    "collapsed": true
   },
   "outputs": [],
   "source": [
    "#==================================================================================================================#"
   ]
  },
  {
   "cell_type": "code",
   "execution_count": 358,
   "metadata": {},
   "outputs": [
    {
     "name": "stdout",
     "output_type": "stream",
     "text": [
      "78\n"
     ]
    }
   ],
   "source": [
    "# First call my_data to examine it \n",
    "print(len(clean_df))\n",
    "clean_df.head()\n",
    "\n",
    "# Grouped Dataframe by Item ID and Item Name and created new dataframe\n",
    "grouped_ItemID_Name_df = clean_df.groupby([\"Item ID\", \"Item Name\"])\n",
    "\n",
    "grouped_ItemID_Name_df.sum()\n",
    "\n",
    "most_profitable_df = pd.DataFrame(grouped_ItemID_Name_df.sum())\n",
    "#most_profitable_df.head() \n",
    "\n",
    "# adding new column  to existing dataframe\n",
    "most_profitable_df['Purchase_Count'] = clean_df.groupby([\"Item ID\", \"Item Name\"])[\"Item Name\"].count()\n",
    " \n",
    "\n",
    "#  Rename column 'Item Price'of Price dataframe \n",
    "most_profitable_df = most_profitable_df.rename(columns={'Price': 'Item_Price' })\n",
    " \n",
    "# Total Purchase Value calculations\n",
    "most_profitable_df['Total_Purchase_Value'] = most_profitable_df['Purchase_Count'].mul(most_profitable_df['Item_Price'])\n",
    "\n",
    "#new_size_df = Heroes_popular_df.sum()\n",
    "most_profitable_df.drop('Age', axis = 1, inplace=True )\n",
    " "
   ]
  },
  {
   "cell_type": "code",
   "execution_count": 364,
   "metadata": {},
   "outputs": [],
   "source": [
    "# Sorting in the highest values of top 5 Most Profitable Items without a dollarsign '$'\n",
    "sorted_top_profitable_df = most_profitable_df.sort_values(\"Total_Purchase_Value\", ascending=False) \n",
    "#sorted_top_profitable_df.head() \n",
    " "
   ]
  },
  {
   "cell_type": "code",
   "execution_count": 365,
   "metadata": {
    "collapsed": true
   },
   "outputs": [],
   "source": [
    "#  After sorting, I am formating with dollar sign. Because my sort does not work with %, $...\n",
    "format_sorted_top_profitable_df = sorted_top_profitable_df\n",
    "format_sorted_top_profitable_df['Item_Price'] = format_sorted_top_profitable_df['Item_Price'].apply(dollarsign)\n",
    "format_sorted_top_profitable_df['Total_Purchase_Value'] = format_sorted_top_profitable_df['Total_Purchase_Value'].apply(dollarsign)"
   ]
  },
  {
   "cell_type": "code",
   "execution_count": 366,
   "metadata": {},
   "outputs": [
    {
     "data": {
      "text/html": [
       "<div>\n",
       "<style>\n",
       "    .dataframe thead tr:only-child th {\n",
       "        text-align: right;\n",
       "    }\n",
       "\n",
       "    .dataframe thead th {\n",
       "        text-align: left;\n",
       "    }\n",
       "\n",
       "    .dataframe tbody tr th {\n",
       "        vertical-align: top;\n",
       "    }\n",
       "</style>\n",
       "<table border=\"1\" class=\"dataframe\">\n",
       "  <thead>\n",
       "    <tr style=\"text-align: right;\">\n",
       "      <th></th>\n",
       "      <th></th>\n",
       "      <th>Item_Price</th>\n",
       "      <th>Purchase_Count</th>\n",
       "      <th>Total_Purchase_Value</th>\n",
       "    </tr>\n",
       "    <tr>\n",
       "      <th>Item ID</th>\n",
       "      <th>Item Name</th>\n",
       "      <th></th>\n",
       "      <th></th>\n",
       "      <th></th>\n",
       "    </tr>\n",
       "  </thead>\n",
       "  <tbody>\n",
       "    <tr>\n",
       "      <th>94</th>\n",
       "      <th>Mourning Blade</th>\n",
       "      <td>$10.92</td>\n",
       "      <td>3</td>\n",
       "      <td>$32.76</td>\n",
       "    </tr>\n",
       "    <tr>\n",
       "      <th>117</th>\n",
       "      <th>Heartstriker, Legacy of the Light</th>\n",
       "      <td>$9.42</td>\n",
       "      <td>2</td>\n",
       "      <td>$18.84</td>\n",
       "    </tr>\n",
       "    <tr>\n",
       "      <th>93</th>\n",
       "      <th>Apocalyptic Battlescythe</th>\n",
       "      <td>$8.98</td>\n",
       "      <td>2</td>\n",
       "      <td>$17.96</td>\n",
       "    </tr>\n",
       "    <tr>\n",
       "      <th>90</th>\n",
       "      <th>Betrayer</th>\n",
       "      <td>$8.24</td>\n",
       "      <td>2</td>\n",
       "      <td>$16.48</td>\n",
       "    </tr>\n",
       "    <tr>\n",
       "      <th>154</th>\n",
       "      <th>Feral Katana</th>\n",
       "      <td>$8.22</td>\n",
       "      <td>2</td>\n",
       "      <td>$16.44</td>\n",
       "    </tr>\n",
       "  </tbody>\n",
       "</table>\n",
       "</div>"
      ],
      "text/plain": [
       "                                          Item_Price  Purchase_Count  \\\n",
       "Item ID Item Name                                                      \n",
       "94      Mourning Blade                        $10.92               3   \n",
       "117     Heartstriker, Legacy of the Light      $9.42               2   \n",
       "93      Apocalyptic Battlescythe               $8.98               2   \n",
       "90      Betrayer                               $8.24               2   \n",
       "154     Feral Katana                           $8.22               2   \n",
       "\n",
       "                                          Total_Purchase_Value  \n",
       "Item ID Item Name                                               \n",
       "94      Mourning Blade                                  $32.76  \n",
       "117     Heartstriker, Legacy of the Light               $18.84  \n",
       "93      Apocalyptic Battlescythe                        $17.96  \n",
       "90      Betrayer                                        $16.48  \n",
       "154     Feral Katana                                    $16.44  "
      ]
     },
     "execution_count": 366,
     "metadata": {},
     "output_type": "execute_result"
    }
   ],
   "source": [
    "format_sorted_top_profitable_df.head()"
   ]
  },
  {
   "cell_type": "code",
   "execution_count": null,
   "metadata": {
    "collapsed": true
   },
   "outputs": [],
   "source": []
  },
  {
   "cell_type": "code",
   "execution_count": null,
   "metadata": {
    "collapsed": true
   },
   "outputs": [],
   "source": []
  },
  {
   "cell_type": "code",
   "execution_count": null,
   "metadata": {
    "collapsed": true
   },
   "outputs": [],
   "source": []
  }
 ],
 "metadata": {
  "kernelspec": {
   "display_name": "Python 3",
   "language": "python",
   "name": "python3"
  },
  "language_info": {
   "codemirror_mode": {
    "name": "ipython",
    "version": 3
   },
   "file_extension": ".py",
   "mimetype": "text/x-python",
   "name": "python",
   "nbconvert_exporter": "python",
   "pygments_lexer": "ipython3",
   "version": "3.6.3"
  }
 },
 "nbformat": 4,
 "nbformat_minor": 2
}
